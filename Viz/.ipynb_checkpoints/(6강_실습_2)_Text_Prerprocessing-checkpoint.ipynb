{
  "cells": [
    {
      "cell_type": "markdown",
      "metadata": {
        "id": "Xm4DgU6txgV4"
      },
      "source": [
        "# (6강-실습-2) Text 전처리\n",
        "\n",
        "- **실습 개요**: 정규표현식에 대해 살펴보고, 이외에 한글 라이브러리의 사용 사례를 살펴본다.\n",
        "- **실습 진행 목적 및 배경**:\n",
        "  - 텍스트 데이터의 전처리 방법에 대한 역량 증진\n",
        "- **실습 수행으로 얻어갈 수 있는 역량**:\n",
        "  - 텍스트 전처리에 대한 기본 지식\n",
        "- **데이터셋 개요 및 저작권 정보**:\n",
        "  - \bx\n",
        "- **실습 핵심 내용**\n",
        "  - 정규표현식 예시\n",
        "  - 한글 자연어처리 라이브러리 PyKoSpacing, SOYNLP 사례 학습"
      ]
    },
    {
      "cell_type": "code",
      "execution_count": null,
      "metadata": {
        "id": "Ntf5wmAHxgV5"
      },
      "outputs": [],
      "source": [
        "# !pip install -qqq soynlp\n",
        "# !pip install -qqq git+https://github.com/haven-jeon/PyKoSpacing.git"
      ]
    },
    {
      "cell_type": "markdown",
      "metadata": {
        "id": "H1KM-Ki5xgV5"
      },
      "source": [
        "## 1. 불용어 처리와 정규 표현식"
      ]
    },
    {
      "cell_type": "code",
      "execution_count": null,
      "metadata": {
        "id": "pAzBqUXzxgV5",
        "outputId": "4f7cb333-9e4e-4a2a-d839-d45e656bc89b"
      },
      "outputs": [
        {
          "name": "stdout",
          "output_type": "stream",
          "text": [
            "안녕하세요 저는 홍길동이고ㅋㅋ 대한민국에서 살고 있어요! <b>개인정보</b> 제 이메일은 kildong@gmail.com이고 제 전화번호는 010-0000-1234 입니다.ㅋㅋㅋ\n"
          ]
        }
      ],
      "source": [
        "# 본 실습에서는 비교의 용이를 위해 불러온 데이터가 아닌 예시 문장으로 실습을 진행한다.\n",
        "data = '안녕하세요 저는 홍길동이고ㅋㅋ 대한민국에서 살고 있어요! <b>개인정보</b> 제 이메일은 kildong@gmail.com이고 제 전화번호는 010-0000-1234 입니다.ㅋㅋㅋ'\n",
        "print(data)"
      ]
    },
    {
      "cell_type": "code",
      "execution_count": null,
      "metadata": {
        "id": "0oieQ5lLxgV6"
      },
      "outputs": [],
      "source": [
        "import re\n",
        "\n",
        "def clean_str(text):\n",
        "    pattern = '([a-zA-Z0-9_.]+@[a-zA-Z0-9-]+\\.[a-zA-Z0-9-.]+)' # E-mail제거\n",
        "    text = re.sub(pattern=pattern, repl='', string=text)\n",
        "\n",
        "    pattern = '010-(\\d{3,4})-(\\d{4})' # 전화번호 제거\n",
        "    text = re.sub(pattern=pattern, repl='', string=text)\n",
        "\n",
        "    pattern = '([ㄱ-ㅎㅏ-ㅣ]+)'  # 한글 자음, 모음 제거\n",
        "    text = re.sub(pattern=pattern, repl='', string=text)\n",
        "\n",
        "    pattern = '<[^>]*>' # HTML 태그 제거\n",
        "    text = re.sub(pattern=pattern, repl='', string=text)\n",
        "\n",
        "    text = re.sub('[-=+,#/\\?:^$.@*\\\"※~&%ㆍ!』\\\\‘|\\(\\)\\[\\]\\<\\>`\\'…》]','', string=text) # 특수 문자 제거\n",
        "    text = re.sub('\\n', '.', string=text)\n",
        "    return text"
      ]
    },
    {
      "cell_type": "code",
      "execution_count": null,
      "metadata": {
        "id": "UPHESxYoxgV6",
        "outputId": "3028a995-5475-4d5e-8e71-fe39f47884d3"
      },
      "outputs": [
        {
          "name": "stdout",
          "output_type": "stream",
          "text": [
            "원본\n",
            "안녕하세요 저는 홍길동이고ㅋㅋ 대한민국에서 살고 있어요! <b>개인정보</b> 제 이메일은 kildong@gmail.com이고 제 전화번호는 010-0000-1234 입니다.ㅋㅋㅋ\n"
          ]
        }
      ],
      "source": [
        "print('원본')\n",
        "print(data)"
      ]
    },
    {
      "cell_type": "code",
      "execution_count": null,
      "metadata": {
        "id": "jWLxjomfxgV6",
        "outputId": "d7554841-051d-4d78-c9d3-841be4828954"
      },
      "outputs": [
        {
          "name": "stdout",
          "output_type": "stream",
          "text": [
            "수정본\n",
            "안녕하세요 저는 홍길동이고 대한민국에서 살고 있어요 개인정보 제 이메일은 이고 제 전화번호는  입니다\n"
          ]
        }
      ],
      "source": [
        "print('수정본')\n",
        "print(clean_str(data))"
      ]
    },
    {
      "cell_type": "markdown",
      "metadata": {
        "id": "BuOVPECNxgV6"
      },
      "source": [
        "## 2. 다양한 텍스트 라이브러리\n",
        "\n",
        "한글에서 사용하는 대표적인 라이브러리는 다음과 같습니다.\n",
        "\n",
        "- `KoNLPy`: 여러 한국어 형태소 분석기를 편리하게 사용할 수 있음\n",
        "- `Py-Hanspell`: 네이버 맞춤법 검사기를 기반으로 한 라이브러리로, 한국어 맞춤법과 띄어쓰기 오류를 교정\n",
        "- `PyKoSpacing`: 띄어쓰기 라이브러리\n",
        "- `SOYNLP`: 비지도 학습 방법으로 자연어 처리를 하는 라이브러리. 신조어 등에 대해 처리하기에 용이\n",
        "\n",
        "### 2-1. 띄어쓰기"
      ]
    },
    {
      "cell_type": "code",
      "execution_count": null,
      "metadata": {
        "id": "nI9sFKT2xgV6"
      },
      "outputs": [],
      "source": [
        "sent = '김철수는 1980년에 태어난 대한민국 국민으로, 한국에서 자랐지만 외국으로 건너가는 것을 꿈꿨습니다. 그는 새로운 문화와 언어를 탐험하며 세계적인 모험을 즐깁니다. 열정적이고 창의적인 성격으로, 항상 새로운 도전에 열려 있습니다. 끊임없이 배우고 성장하며, 자신의 이야기를 통해 다양한 사람들과 소통하는 것을 즐깁니다. 김철수는 풍부한 경험과 넓은 시야를 갖춘 글로벌 시민으로서, 세계를 무대로 활약하는 모습을 보여줍니다.'\n",
        "new_sent = sent.replace(' ', '') # 띄어쓰기가 없는 문장 임의로 만들기"
      ]
    },
    {
      "cell_type": "code",
      "execution_count": null,
      "metadata": {
        "id": "Zu5vRcG5xgV6",
        "outputId": "509df989-2409-4c70-eca2-d143b1698360"
      },
      "outputs": [
        {
          "name": "stdout",
          "output_type": "stream",
          "text": [
            "김철수는1980년에태어난대한민국국민으로,한국에서자랐지만외국으로건너가는것을꿈꿨습니다.그는새로운문화와언어를탐험하며세계적인모험을즐깁니다.열정적이고창의적인성격으로,항상새로운도전에열려있습니다.끊임없이배우고성장하며,자신의이야기를통해다양한사람들과소통하는것을즐깁니다.김철수는풍부한경험과넓은시야를갖춘글로벌시민으로서,세계를무대로활약하는모습을보여줍니다.\n",
            "김철수는 1980년에 태어난 대한민국 국민으로, 한국에서 자랐지만 외국으로 건너가는 것을 꿈꿨습니다. 그는 새로운 문화와 언어를 탐험하며 세계적인 모험을 즐깁니다. 열정적이고 창의적인 성격으로, 항상 새로운 도전에 열려 있습니다. 끊임없이 배우고 성장하며, 자신의 이야기를 통해 다양한 사람들과 소통하는 것을 즐깁니다. 김철수는 풍부한 경험과 넓은 시야를 갖춘 글로벌 시민으로서, 세계를 무대로 활약하는 모습을 보여줍니다.\n"
          ]
        }
      ],
      "source": [
        "from pykospacing import Spacing\n",
        "spacing = Spacing()\n",
        "kospacing_sent = spacing(new_sent)\n",
        "\n",
        "print(new_sent)\n",
        "print(kospacing_sent)"
      ]
    },
    {
      "cell_type": "markdown",
      "metadata": {
        "id": "OtuqMWhNxgV6"
      },
      "source": [
        "### 2-2. 반복 문자 제거\n"
      ]
    },
    {
      "cell_type": "code",
      "execution_count": null,
      "metadata": {
        "id": "YYOkDwtRxgV6",
        "outputId": "0660bf07-5051-427c-958c-e012c11132c8"
      },
      "outputs": [
        {
          "name": "stdout",
          "output_type": "stream",
          "text": [
            "아야, 허리가 너무 아파 ㅠ\n"
          ]
        }
      ],
      "source": [
        "from soynlp.normalizer import *\n",
        "print(repeat_normalize('아야야야야야, 허리가 너무 아파 ㅠㅠㅠㅠ', num_repeats=1))"
      ]
    },
    {
      "cell_type": "markdown",
      "metadata": {
        "id": "xxQcWlIJxgV6"
      },
      "source": [
        "###**콘텐츠 라이선스**\n",
        "\n",
        "<font color='red'><b>**WARNING**</b></font> : **본 교육 콘텐츠의 지식재산권은 재단법인 네이버커넥트에 귀속됩니다. 본 콘텐츠를 어떠한 경로로든 외부로 유출 및 수정하는 행위를 엄격히 금합니다.** 다만, 비영리적 교육 및 연구활동에 한정되어 사용할 수 있으나 재단의 허락을 받아야 합니다. 이를 위반하는 경우, 관련 법률에 따라 책임을 질 수 있습니다.\n",
        "\n"
      ]
    }
  ],
  "metadata": {
    "kernelspec": {
      "display_name": "Python 3 (ipykernel)",
      "language": "python",
      "name": "python3"
    },
    "language_info": {
      "codemirror_mode": {
        "name": "ipython",
        "version": 3
      },
      "file_extension": ".py",
      "mimetype": "text/x-python",
      "name": "python",
      "nbconvert_exporter": "python",
      "pygments_lexer": "ipython3",
      "version": "3.10.13"
    },
    "colab": {
      "provenance": []
    }
  },
  "nbformat": 4,
  "nbformat_minor": 0
}